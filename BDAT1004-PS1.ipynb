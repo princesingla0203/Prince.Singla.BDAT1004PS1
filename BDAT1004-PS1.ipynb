{
 "cells": [
  {
   "cell_type": "code",
   "execution_count": 8,
   "id": "e793e2c2",
   "metadata": {},
   "outputs": [],
   "source": [
    "\n",
    "// Question1: what type is each of the following\n",
    "\n",
    "\n",
    "// 5 ==> Data Type: system.Int32\n",
    "//5.0 ==> Data Type: system.Double\n",
    "//(5>1) ==> 'True': Data Type: system.Boolean\n",
    "//'5' ===> Data Type: system.Char\n",
    "//(5*2 = 10) ===> Data Type: system.Int32\n",
    "//'5'*2 = 10 ===> Data Type: system.Int32\n",
    "//'5'+2 = 107 ===> Data Type: system.Int32\n",
    "//(5/2 = ) ====> Data Type: system.Int32\n",
    "//(5 % 2) ====> Data Type: system.Int32\n",
    "//(5,2,1) ====> Data Type: system.Int32\n",
    "//(5==3 = False) ===> Data Type: system.Boolean\n",
    "// (Math.PI = 3.14159265358979 ) ==== Data Type: system.Double\n"
   ]
  },
  {
   "cell_type": "code",
   "execution_count": 9,
   "id": "72d28d53",
   "metadata": {},
   "outputs": [
    {
     "name": "stdout",
     "output_type": "stream",
     "text": [
      "1.Number of letters: 34\n",
      "2.Contain 'ice' as a substring : True\n"
     ]
    }
   ],
   "source": [
    "// Question2: write C# epression that answer these questions\n",
    "\n",
    "\n",
    "\n",
    "\n",
    "            //a. How many letters are there in 'Supercalifragilisticexpialidocious'?\n",
    "            string word = \"Supercalifragilisticexpialidocious\";\n",
    "            Console.WriteLine(\"1.Number of letters: \" + word.Length);\n",
    "\n",
    "\n",
    "            //b. Does 'Supercalifragilisticexpialidocious' contain 'ice' as a substring?\n",
    "\n",
    "            bool containS = word.Contains(\"ice\");\n",
    "            Console.WriteLine(\"2.Contain 'ice' as a substring : \" + containS);\n",
    "\n"
   ]
  },
  {
   "cell_type": "code",
   "execution_count": 2,
   "id": "141a6fdd",
   "metadata": {},
   "outputs": [
    {
     "name": "stdout",
     "output_type": "stream",
     "text": [
      "3.Longest word is : Bababadalgharaghtakamminarronnkonn\r\n"
     ]
    }
   ],
   "source": [
    "//c.Which of the following words is the longest: Supercalifragilisticexpialidocious, Honorificabilitudinitatibus, or Bababadalgharaghtakamminarronnkonn?\n",
    "            string word1 = \"Supercalifragilisticexpialidocious\";\n",
    "            string word2 = \"Honorificabilitudinitatibus\";\n",
    "            string word3 = \"Bababadalgharaghtakamminarronnkonn\";\n",
    "\n",
    "            int a = word1.Length;\n",
    "            int b = word2.Length;\n",
    "            int c = word3.Length;\n",
    "            if (a > b && a > c)\n",
    "            {\n",
    "                Console.WriteLine(\"3. Longest word is : \" + word1);\n",
    "            }\n",
    "            else if (b > a && b > c)\n",
    "            {\n",
    "                Console.WriteLine(\"3.Longest word is : \" + word2);\n",
    "            }\n",
    "            else\n",
    "            {\n",
    "                Console.WriteLine(\"3.Longest word is : \" + word3);\n",
    "            }"
   ]
  },
  {
   "cell_type": "code",
   "execution_count": 4,
   "id": "38318d6b",
   "metadata": {},
   "outputs": [
    {
     "name": "stdout",
     "output_type": "stream",
     "text": [
      "4.First Composer : Bartok\n",
      "4.Last Composer  : Buxtehude\n"
     ]
    }
   ],
   "source": [
    "//d. Which composer comes first in the dictionary: 'Berlioz', 'Borodin', 'Brian', 'Bartok', 'Bellini', 'Buxtehude', 'Bernstein'. Which one comes last?\n",
    "            string[] Composers = { \"Berlioz\", \"Borodin\", \"Brian\", \"Bartok\", \"Bellini\", \"Buxtehude\", \"Bernstein\" };\n",
    "\n",
    "            int ComposerSize = Composers.Length;\n",
    "            Array.Sort(Composers);\n",
    "            Console.WriteLine(\"4.First Composer : \" + Composers[0]);\n",
    "            Console.WriteLine(\"4.Last Composer  : \" + Composers[ComposerSize - 1]);"
   ]
  },
  {
   "cell_type": "code",
   "execution_count": 16,
   "id": "9ed77770",
   "metadata": {},
   "outputs": [
    {
     "name": "stdout",
     "output_type": "stream",
     "text": [
      "Area of Triangle is: 1.7320508075688772\r\n"
     ]
    }
   ],
   "source": [
    " //Question3 Implement function triangleArea(a,b,c) that takes as input the lengths of the 3 \n",
    "sides of a triangle and returns the area of the triangle. By Heron's formula, the area \n",
    "of a triangle with side lengths a, b, and c is s(s − a)(s −b)(s −c), where\n",
    "s = (a + b + c)/2.\n",
    ">>> triangleArea(2,2,2) \n",
    "1.7320508075688772\n",
    "\n",
    " \n",
    " \n",
    "                // Three side of triangle\n",
    "                double a = 2;\n",
    "                double b = 2;\n",
    "                double c = 2;\n",
    "                double Area = triangleArea(a, b, c);\n",
    "                Console.WriteLine(\"Area of Triangle is: \" + Area);\n",
    "            \n",
    "\n",
    "        static double triangleArea(double a, double b, double c)\n",
    "            {\n",
    "                double s = (a + b + c) / 2;\n",
    "                double area = Math.Sqrt(s * (s - a) * (s - b) * (s - c));\n",
    "                return area;\n",
    "            }"
   ]
  },
  {
   "cell_type": "code",
   "execution_count": 15,
   "id": "58a7cecc",
   "metadata": {},
   "outputs": [
    {
     "name": "stdout",
     "output_type": "stream",
     "text": [
      "The Even elements are:\n",
      "42 56 32 \n",
      "The Odd elements are:\n",
      "25 47 \n"
     ]
    }
   ],
   "source": [
    "//Question4: Write a program in C# Sharp to separate odd and even integers in separate arrays. \n",
    "Go to the editor\n",
    "Test Data :\n",
    "Input the number of elements to be stored in the array :5 \n",
    "Input 5 elements in the array :\n",
    "element - 0 : 25\n",
    "element - 1 : 47\n",
    "element - 2 : 42\n",
    "element - 3 : 56\n",
    "element - 4 : 32 \n",
    "Expected Output:\n",
    "The Even elements are: \n",
    "42 56 32\n",
    "The Odd elements are : \n",
    "B\n",
    "25 47\n",
    "\n",
    "\n",
    "        \n",
    "    int[] inputNumbers = new int[] { 25, 47, 42, 56, 32 };\n",
    "\n",
    "int[] even_Array = new int[inputNumbers.Length];\n",
    "int even_Count = 0;\n",
    "\n",
    "int[] odd_Array = new int[inputNumbers.Length];\n",
    "int odd_Count = 0;\n",
    "\n",
    "foreach (int number in inputNumbers)\n",
    "{\n",
    "    if (number % 2 == 0)\n",
    "    {\n",
    "        even_Array[even_Count] = number;\n",
    "        even_Count++;\n",
    "    }\n",
    "    else\n",
    "    {\n",
    "        odd_Array[odd_Count] = number;\n",
    "        odd_Count++;\n",
    "    }\n",
    "}\n",
    "\n",
    "Console.WriteLine(\"The Even elements are:\");\n",
    "for (int i = 0; i < even_Count; i++)\n",
    "{\n",
    "    Console.Write(even_Array[i] + \" \");\n",
    "}\n",
    "Console.WriteLine();\n",
    "\n",
    "Console.WriteLine(\"The Odd elements are:\");\n",
    "for (int i = 0; i < odd_Count; i++)\n",
    "{\n",
    "    Console.Write(odd_Array[i] + \" \");\n",
    "}\n",
    "Console.WriteLine();\n"
   ]
  },
  {
   "cell_type": "code",
   "execution_count": 7,
   "id": "83dedaa7",
   "metadata": {},
   "outputs": [
    {
     "name": "stdout",
     "output_type": "stream",
     "text": [
      "1.Is the point lies inside the rectangle? : True\n",
      "1.Is the point lies inside the rectangle? : False\n",
      "2.Is the point (1, 1) lie in both rectangles? : False\n"
     ]
    }
   ],
   "source": [
    "//Question5: \n",
    "a. Write a function inside(x,y,x1,y1,x2,y2) that returns True or False \n",
    "dependingonwhetherthepoint(x,y)liesintherectanglewithlowerleft \n",
    "corner (x1,y1) and upper right corner (x2,y2).\n",
    ">>> inside(1,1,0,0,2,3)\n",
    "True\n",
    ">>> inside(-1,-1,0,0,2,3)\n",
    "False\n",
    "\n",
    "b. Use function inside()from part a. to write an expression that tests whether \n",
    "the point (1,1) lies in both of the following rectangles: one with lower left \n",
    "corner (0.3, 0.5) and upper right corner (1.1, 0.7) and the other with lower \n",
    "left corner (0.5, 0.2) and upper right corner (1.1, 2).\n",
    "\n",
    "\n",
    "\n",
    "            // a. Write a function inside(x,y,x1,y1,x2,y2) that returns True or False depending on whether the point( x,y) lies in the rectangle with lower left corner (x1,y1) and upper right corner (x2,y2).\n",
    "            bool check1 = inside(1, 1, 0, 0, 2, 3);\n",
    "            Console.WriteLine(\"1.Is the point lies inside the rectangle? : \" + check1);\n",
    "            bool check2 = inside(-1, -1, 0, 0, 2, 3);\n",
    "            Console.WriteLine(\"1.Is the point lies inside the rectangle? : \" + check2);\n",
    "            \n",
    "            \n",
    "\n",
    "            // b. Use function inside()from part a. to write an expression that tests whether the point (1,1) lies in both of the following rectangles: one with lower left corner (0.3, 0.5) and upper right corner (1.1, 0.7) and the other with lower left corner (0.5, 0.2) and upper right corner (1.1, 2).\n",
    "            int x = 1;\n",
    "            int y = 1;\n",
    "            bool isInside1 = inside(x, y, 0.3, 0.5, 1.1, 0.7);\n",
    "            bool isInside2 = inside(x, y, 0.5, 0.2, 1.1, 2);\n",
    "\n",
    "            bool CheckIfInside = isInside1 && isInside2;\n",
    "\n",
    "            Console.WriteLine(\"2.Is the point (1, 1) lie in both rectangles? : \" + CheckIfInside);\n",
    "        \n",
    "        static bool inside(double x, double y, double x1, double y1, double x2, double y2)\n",
    "        {\n",
    "            if (x >= x1 && x <= x2 && y >= y1 && y <= y2)\n",
    "            {\n",
    "                return true;\n",
    "            }\n",
    "            else\n",
    "            {\n",
    "                return false;\n",
    "            }\n",
    "            \n",
    "            }"
   ]
  },
  {
   "cell_type": "code",
   "execution_count": null,
   "id": "3fd624ed",
   "metadata": {},
   "outputs": [],
   "source": []
  }
 ],
 "metadata": {
  "kernelspec": {
   "display_name": ".NET (C#)",
   "language": "C#",
   "name": ".net-csharp"
  },
  "language_info": {
   "file_extension": ".cs",
   "mimetype": "text/x-csharp",
   "name": "C#",
   "pygments_lexer": "csharp",
   "version": "8.0"
  }
 },
 "nbformat": 4,
 "nbformat_minor": 5
}
