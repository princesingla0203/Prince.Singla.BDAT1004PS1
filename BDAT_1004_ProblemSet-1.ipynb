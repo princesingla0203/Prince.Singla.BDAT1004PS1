{
 "cells": [
  {
   "cell_type": "markdown",
   "metadata": {},
   "source": [
    "## BDAT PROBLEM SET 1"
   ]
  },
  {
   "cell_type": "markdown",
   "metadata": {},
   "source": [
    "## QUESTION 1"
   ]
  },
  {
   "cell_type": "markdown",
   "metadata": {},
   "source": [
    "#### What data type is each of the following?"
   ]
  },
  {
   "cell_type": "markdown",
   "metadata": {},
   "source": [
    "| Expression    | Data Type  |\n",
    "|---------------|------------|\n",
    "| 5             | Integer    |\n",
    "| 5.0           | Float      |\n",
    "| 5 > 1         | Boolean    |\n",
    "| \"5\"           | String     |\n",
    "| 5 * 2         | Integer    |\n",
    "| \"5\" * 2       | String     |\n",
    "| \"5\" + \"2\"     | String     |\n",
    "| 5 / 2         | Float      |\n",
    "| 5 % 2         | Integer    |\n",
    "| {5, 2, 1}     | Array      |\n",
    "| 5 == 3        | Boolean    |\n",
    "| pi(the number)| Double     |\n"
   ]
  },
  {
   "cell_type": "markdown",
   "metadata": {},
   "source": [
    "## QUESTION 2"
   ]
  },
  {
   "cell_type": "markdown",
   "metadata": {},
   "source": [
    "### a,b)"
   ]
  },
  {
   "cell_type": "markdown",
   "metadata": {},
   "source": [
    "```csharp\n",
    "using System;\n",
    "namespace BDAT\n",
    "{\n",
    "    class Program\n",
    "    {\n",
    "        static void Main(string[] args)\n",
    "        {\n",
    "            \n",
    "            \n",
    "            //1. How many letters are there in 'Supercalifragilisticexpialidocious'?\n",
    "            string word = \"Supercalifragilisticexpialidocious\";\n",
    "            Console.WriteLine(\"1.Number of letters: \" + word.Length);\n",
    "            \n",
    "            \n",
    "            //2. Does 'Supercalifragilisticexpialidocious' contain 'ice' as a substring?\n",
    "        \n",
    "            bool containS = word.Contains(\"ice\");\n",
    "            Console.WriteLine(\"2.Contain 'ice' as a substring : \" + containS);\n",
    "            \n",
    "            \n",
    "        }\n",
    "    }\n",
    "}\n",
    "```\n",
    "\n"
   ]
  },
  {
   "attachments": {
    "image-3.png": {
     "image/png": "[encoded data removed]"
    }
   },
   "cell_type": "markdown",
   "metadata": {},
   "source": [
    "## OUTPUT\n",
    "\n",
    "![image-3.png](attachment:image-3.png)"
   ]
  },
  {
   "cell_type": "markdown",
   "metadata": {},
   "source": [
    "### c)"
   ]
  },
  {
   "cell_type": "markdown",
   "metadata": {},
   "source": [
    "```csharp\n",
    "using System;\n",
    "\n",
    "namespace BDAT\n",
    "{\n",
    "    \n",
    "    class Program\n",
    "    {\n",
    "        static void Main(string[] args)\n",
    "        {\n",
    "            \n",
    "\n",
    "            //3.Which of the following words is the longest: Supercalifragilisticexpialidocious, Honorificabilitudinitatibus, or Bababadalgharaghtakamminarronnkonn?\n",
    "            string word1 = \"Supercalifragilisticexpialidocious\";\n",
    "            string word2 = \"Honorificabilitudinitatibus\";\n",
    "            string word3 = \"Bababadalgharaghtakamminarronnkonn\";\n",
    "            \n",
    "            int a = word1.Length;\n",
    "            int b = word2.Length;\n",
    "            int c = word3.Length;\n",
    "            if (a > b && a > c)\n",
    "            {\n",
    "                Console.WriteLine(\"3. Longest word is : \" + word1);\n",
    "            }\n",
    "            else if (b > a && b > c)\n",
    "            {\n",
    "                Console.WriteLine(\"3.Longest word is : \" + word2);\n",
    "            }\n",
    "            else\n",
    "            {\n",
    "                Console.WriteLine(\"3.Longest word is : \" + word3);\n",
    "            }\n",
    "\n",
    "        }\n",
    "    }\n",
    "}\n",
    "\n",
    "\n",
    "```\n",
    "\n"
   ]
  },
  {
   "attachments": {
    "image-4.png": {
     "image/png": "[encoded data removed]"
    }
   },
   "cell_type": "markdown",
   "metadata": {},
   "source": [
    "## OUTPUT\n",
    "\n",
    "![image-4.png](attachment:image-4.png)"
   ]
  },
  {
   "cell_type": "markdown",
   "metadata": {},
   "source": [
    "### d)"
   ]
  },
  {
   "cell_type": "markdown",
   "metadata": {},
   "source": [
    "```csharp\n",
    "using System;\n",
    "\n",
    "namespace BDAT\n",
    "{\n",
    "    class Program\n",
    "    {\n",
    "        static void Main(string[] args)\n",
    "        {\n",
    "            \n",
    "            //4. Which composer comes first in the dictionary: 'Berlioz', 'Borodin', 'Brian', 'Bartok', 'Bellini', 'Buxtehude', 'Bernstein'. Which one comes last?\n",
    "            string[] Composers = { \"Berlioz\", \"Borodin\", \"Brian\", \"Bartok\", \"Bellini\", \"Buxtehude\", \"Bernstein\" };\n",
    "            \n",
    "            int ComposerSize = Composers.Length;\n",
    "            Array.Sort(Composers);\n",
    "            Console.WriteLine(\"4.First Composer : \" + Composers[0]);\n",
    "            Console.WriteLine(\"4.Last Composer  : \" + Composers[ComposerSize-1]);\n",
    "            \n",
    "\n",
    "        }\n",
    "    }\n",
    "}\n",
    "```\n",
    "\n"
   ]
  },
  {
   "attachments": {
    "image-2.png": {
     "image/png": "[encoded data removed]"
    }
   },
   "cell_type": "markdown",
   "metadata": {},
   "source": [
    "## OUTPUT \n",
    "![image-2.png](attachment:image-2.png)"
   ]
  },
  {
   "cell_type": "markdown",
   "metadata": {},
   "source": [
    "## QUESTION 3"
   ]
  },
  {
   "cell_type": "markdown",
   "metadata": {},
   "source": [
    "```csharp\n",
    "using System;\n",
    "\n",
    "namespace BDAT\n",
    "{\n",
    "    class Program\n",
    "    {\n",
    "        static void Main(string[] args)\n",
    "            {\n",
    "                // Three side of triangle\n",
    "                double a = 2;\n",
    "                double b = 2;\n",
    "                double c = 2;\n",
    "                double Area = triangleArea(a, b, c);\n",
    "                Console.WriteLine(\"Area of Triangle is: \" + Area);\n",
    "            }\n",
    "\n",
    "        static double triangleArea(double a, double b, double c)\n",
    "            {\n",
    "                double s = (a + b + c) / 2;\n",
    "                double area = Math.Sqrt(s * (s - a) * (s - b) * (s - c));\n",
    "                return area;\n",
    "            }\n",
    "\n",
    "    }\n",
    "\n",
    "}\n",
    "\n",
    "```"
   ]
  },
  {
   "attachments": {
    "image-2.png": {
     "image/png": "[encoded data removed]"
    }
   },
   "cell_type": "markdown",
   "metadata": {},
   "source": [
    "## OUTPUT\n",
    "\n",
    "![image-2.png](attachment:image-2.png)"
   ]
  },
  {
   "cell_type": "markdown",
   "metadata": {},
   "source": [
    "## QUESTION 4"
   ]
  },
  {
   "cell_type": "markdown",
   "metadata": {},
   "source": [
    "```csharp\n",
    "using System;\n",
    "\n",
    "namespace BDAT\n",
    "{\n",
    "    class Program\n",
    "    {\n",
    "        static void Main(string[] args) {\n",
    "            \n",
    "                int[] Array = new int[5];\n",
    "                int[] EvenArray = new int[5];\n",
    "                int[] OddArray = new int[5];\n",
    "                int evenC = 0;\n",
    "                int oddC = 0;\n",
    "\n",
    "                Console.Write(\"Input the number of elements to be stored in the array : \");\n",
    "                int num = Convert.ToInt32(Console.ReadLine());\n",
    "\n",
    "                Console.WriteLine(\"Input {0} elements in the array :\", num);\n",
    "                for (int i = 0; i < num; i++)\n",
    "                {\n",
    "                    Console.Write(\"element - {0} :\", i);\n",
    "                    Array[i] = Convert.ToInt32(Console.ReadLine());\n",
    "                }\n",
    "\n",
    "                for (int i = 0; i < num; i++)\n",
    "                {\n",
    "                    if (Array[i] % 2 == 0)\n",
    "                    {\n",
    "                        EvenArray[evenC] = Array[i];\n",
    "                        evenC++;\n",
    "                    }\n",
    "                    else\n",
    "                    {\n",
    "                        OddArray[oddC] = Array[i];\n",
    "                        oddC++;\n",
    "                    }\n",
    "                }\n",
    "\n",
    "                Console.WriteLine(\"The Even elements are:\");\n",
    "                for (int i = 0; i < evenC; i++)\n",
    "                {\n",
    "                    Console.Write(EvenArray[i] + \" \");\n",
    "                }\n",
    "                Console.WriteLine(\"\");\n",
    "                Console.WriteLine(\"The Odd elements are :\");\n",
    "                for (int i = 0; i < oddC; i++)\n",
    "                {\n",
    "                    Console.Write(OddArray[i] + \" \");\n",
    "                }\n",
    "        }\n",
    "          \n",
    "    }\n",
    "\n",
    "}\n",
    "```"
   ]
  },
  {
   "attachments": {
    "image-2.png": {
     "image/png": "[encoded data removed]"
    }
   },
   "cell_type": "markdown",
   "metadata": {},
   "source": [
    "## OUTPUT\n",
    "![image-2.png](attachment:image-2.png)"
   ]
  },
  {
   "cell_type": "markdown",
   "metadata": {},
   "source": [
    "## QUESTION 5"
   ]
  },
  {
   "cell_type": "markdown",
   "metadata": {},
   "source": [
    "```csharp\n",
    "using System;\n",
    "\n",
    "namespace BDAT\n",
    "{\n",
    "    class Program\n",
    "    {\n",
    "       \n",
    "        static void Main(string[] args)\n",
    "        {\n",
    "            // a. Write a function inside(x,y,x1,y1,x2,y2) that returns True or False depending on whether the point( x,y) lies in the rectangle with lower left corner (x1,y1) and upper right corner (x2,y2).\n",
    "            bool check1 = inside(1, 1, 0, 0, 2, 3);\n",
    "            Console.WriteLine(\"1.Is the point lies inside the rectangle? : \" + check1);\n",
    "            bool check2 = inside(-1, -1, 0, 0, 2, 3);\n",
    "            Console.WriteLine(\"1.Is the point lies inside the rectangle? : \" + check2);\n",
    "\n",
    "            // b. Use function inside()from part a. to write an expression that tests whether the point (1,1) lies in both of the following rectangles: one with lower left corner (0.3, 0.5) and upper right corner (1.1, 0.7) and the other with lower left corner (0.5, 0.2) and upper right corner (1.1, 2).\n",
    "            int x = 1;\n",
    "            int y = 1;\n",
    "            bool isInside1 = inside(x, y, 0.3, 0.5, 1.1, 0.7);\n",
    "            bool isInside2 = inside(x, y, 0.5, 0.2, 1.1, 2);\n",
    "\n",
    "            bool CheckIfInside = isInside1 && isInside2;\n",
    "\n",
    "           Console.WriteLine(\"2.Is the point (1, 1) lie in both rectangles? : \" + CheckIfInside);\n",
    "        }\n",
    "        static bool inside(double x, double y, double x1, double y1, double x2, double y2)\n",
    "      {\n",
    "        if (x >= x1 && x <= x2 && y >= y1 && y <= y2)\n",
    "        {\n",
    "            return true;\n",
    "        }\n",
    "        else\n",
    "        {\n",
    "            return false;\n",
    "        }\n",
    "    }\n",
    "\n",
    "    }\n",
    "}\n",
    "```"
   ]
  },
  {
   "attachments": {
    "image-2.png": {
     "image/png": "[encoded data removed]"
    }
   },
   "cell_type": "markdown",
   "metadata": {},
   "source": [
    "## OUTPUT\n",
    "\n",
    "![image-2.png](attachment:image-2.png)"
   ]
  },
  {
   "cell_type": "markdown",
   "metadata": {},
   "source": [
    "## QUESTION 6"
   ]
  },
  {
   "cell_type": "code",
   "execution_count": 8,
   "metadata": {},
   "outputs": [
    {
     "name": "stdout",
     "output_type": "stream",
     "text": [
      "appyhay\n",
      "encilpay\n",
      "enterway\n",
      "otherway\n",
      "achtYay\n"
     ]
    }
   ],
   "source": [
    "# function\n",
    "def pig(word):\n",
    "    vowel = ['a', 'e', 'i', 'o', 'u']\n",
    "    if word[0] in vowel:\n",
    "        return word + 'way'\n",
    "    else:\n",
    "        return word[1:] + word[0] + 'ay'\n",
    "\n",
    "\n",
    "# print function\n",
    "print(pig('happy'))\n",
    "print(pig('pencil'))\n",
    "print(pig('enter'))\n",
    "print(pig('other'))\n",
    "print(pig('Yacht'))\n"
   ]
  },
  {
   "cell_type": "markdown",
   "metadata": {},
   "source": [
    "## QUESTION 7"
   ]
  },
  {
   "cell_type": "code",
   "execution_count": 22,
   "metadata": {},
   "outputs": [
    {
     "name": "stdout",
     "output_type": "stream",
     "text": [
      "There are 15 patients of blood type A.\n",
      "There is one patient of blood type B.\n",
      "There are 13 patients of blood type AB.\n",
      "There are 15 patients of blood type O.\n",
      "There are no patients of blood type OO.\n"
     ]
    }
   ],
   "source": [
    "# Blood type count function \n",
    "def bldcount(filename):\n",
    "    count = {} # To store the count of each blood group\n",
    "    blood_group = ['A', 'B', 'AB', 'O', 'OO'] # List of blood groups\n",
    "    with open(filename, 'r') as file:\n",
    "        blood_data = file.read().split() # To read the data from the file and split it into a list\n",
    "        for type in blood_data:\n",
    "            if type in count: # To check if the blood group is already in the dictionary\n",
    "                count[type] += 1\n",
    "            else: # If the blood group is not in the dictionary\n",
    "                count[type] = 1\n",
    "\n",
    "    for type in ['A', 'B', 'AB', 'O', 'OO']: \n",
    "        Bcount = count.get(type, 0) # To get the count of each blood group\n",
    "        if Bcount == 1: # To check if the count is 1\n",
    "            print(f\"There is one patient of blood type {type}.\")\n",
    "        elif Bcount == 0: # To check if the count is 0\n",
    "            print(f\"There are no patients of blood type {type}.\")\n",
    "        else: # If the count is greater than 1\n",
    "            print(f\"There are {Bcount} patients of blood type {type}.\")\n",
    "\n",
    "\n",
    "# call the function\n",
    "bldcount('bloodtype1.txt')\n"
   ]
  },
  {
   "cell_type": "markdown",
   "metadata": {},
   "source": [
    "### QUESTION 8"
   ]
  },
  {
   "cell_type": "code",
   "execution_count": 19,
   "metadata": {},
   "outputs": [
    {
     "name": "stdout",
     "output_type": "stream",
     "text": [
      "122.96544\n",
      "1.241401\n"
     ]
    }
   ],
   "source": [
    "\n",
    "# Converting the currency function\n",
    "def curconv(currency, amount):\n",
    "\n",
    "    # Creating a dictionary to store the currency data\n",
    "    CurrencyData = {}\n",
    "\n",
    "    with open('currencies.txt') as file:\n",
    "        for line in file:\n",
    "            parse = line.split(\"\\t\") # Splitting the data into two parts\n",
    "            CurrencyData[parse[0]] = parse[1] # Storing the data into a dictionary\n",
    "\n",
    "    usd_amount = float(CurrencyData[currency]) * amount # Converting the currency into USD\n",
    "    print(usd_amount) # Printing the amount in USD\n",
    "\n",
    "\n",
    "# Calling the function\n",
    "curconv(\"EUR\", 100)\n",
    "curconv(\"JPY\", 100)\n",
    "\n"
   ]
  },
  {
   "cell_type": "markdown",
   "metadata": {},
   "source": [
    "### QUESTION 9"
   ]
  },
  {
   "cell_type": "markdown",
   "metadata": {},
   "source": [
    "### Trying to add incompatible variables, as in adding 6 + ‘a’ \n",
    "\n",
    "- **TypeError unsupported operand, int + str**\n",
    "\n",
    "### Referring to the 12th item of a list that has only 10 items\n",
    "- **index error, out of range**\n",
    "\n",
    "### Using a value that is out ofrange for a function’s input, such as calling math.sqrt(-1.0)\n",
    "- **ValueError: math domain error**\n",
    "\n",
    "### Using an undeclared variable, such as print(x) when x has not been defined\n",
    "- **NameError: name x is not defined**\n",
    "\n",
    "### Trying to open a file that does not exist, such as mistyping the file name or looking in the wrong directory.\n",
    "- **IOERROR: No such directory exists**"
   ]
  },
  {
   "cell_type": "markdown",
   "metadata": {},
   "source": [
    "### QUESTION 10"
   ]
  },
  {
   "cell_type": "code",
   "execution_count": 14,
   "metadata": {},
   "outputs": [
    {
     "name": "stdout",
     "output_type": "stream",
     "text": [
      "[1, 1, 1, 3, 5, 1, 1, 2, 1, 0, 1, 0, 1, 2, 4, 0, 1, 2, 0, 2, 1, 0, 1, 1, 0, 0]\n",
      "[1, 0, 0, 0, 1, 0, 0, 0, 0, 0, 0, 1, 0, 0, 0, 2, 0, 0, 0, 0, 0, 0, 0, 0, 0, 0]\n"
     ]
    }
   ],
   "source": [
    "# frequencies function\n",
    "def frequencies(text):\n",
    "    \n",
    "    letters = 'abcdefghijklmnopqrstuvwxyz'\n",
    "    freq_list = [] # To store the frequency of each letter\n",
    "\n",
    "    for letter in letters:\n",
    "        count = text.count(letter) # To count the frequency of the letter in the text\n",
    "        freq_list.append(count) # To append the frequency to the list\n",
    "\n",
    "    return freq_list \n",
    "\n",
    "# To call the function\n",
    "print(frequencies('The quick red fox got bored and went home.'))\n",
    "print(frequencies('apple'))\n"
   ]
  },
  {
   "cell_type": "code",
   "execution_count": null,
   "metadata": {},
   "outputs": [],
   "source": []
  }
 ],
 "metadata": {
  "kernelspec": {
   "display_name": "Python 3",
   "language": "python",
   "name": "python3"
  },
  "language_info": {
   "codemirror_mode": {
    "name": "ipython",
    "version": 3
   },
   "file_extension": ".py",
   "mimetype": "text/x-python",
   "name": "python",
   "nbconvert_exporter": "python",
   "pygments_lexer": "ipython3",
   "version": "3.8.5"
  }
 },
 "nbformat": 4,
 "nbformat_minor": 4
}
